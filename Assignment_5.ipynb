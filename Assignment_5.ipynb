{
  "nbformat": 4,
  "nbformat_minor": 0,
  "metadata": {
    "colab": {
      "name": "Assignment 5",
      "provenance": [],
      "authorship_tag": "ABX9TyOURlSwXCLYIkx15amOl7eP",
      "include_colab_link": true
    },
    "kernelspec": {
      "name": "python3",
      "display_name": "Python 3"
    }
  },
  "cells": [
    {
      "cell_type": "markdown",
      "metadata": {
        "id": "view-in-github",
        "colab_type": "text"
      },
      "source": [
        "<a href=\"https://colab.research.google.com/github/Aswini480/assignment/blob/master/Assignment_5.ipynb\" target=\"_parent\"><img src=\"https://colab.research.google.com/assets/colab-badge.svg\" alt=\"Open In Colab\"/></a>"
      ]
    },
    {
      "cell_type": "code",
      "metadata": {
        "id": "TQR5e3HfY0sB",
        "colab_type": "code",
        "colab": {
          "base_uri": "https://localhost:8080/",
          "height": 51
        },
        "outputId": "b4af18d7-dd3f-4ea9-ffdb-867161758adf"
      },
      "source": [
        "#pay computation to employee\n",
        "score = input(\"Enter score: \")\n",
        "score = float(score)\n",
        "if score>1.0 or score<0.0 :\n",
        "  print(\"error\")\n",
        "elif score>=0.9 :\n",
        "  print ('A')\n",
        "elif score>=0.8 :\n",
        "  print ('B')\n",
        "elif score>=0.7 :\n",
        "  print ('C') \n",
        "elif score>=0.6 :\n",
        "  print ('D')\n",
        "else :\n",
        "  print ('F')"
      ],
      "execution_count": null,
      "outputs": [
        {
          "output_type": "stream",
          "text": [
            "Enter score: 0.95\n",
            "A\n"
          ],
          "name": "stdout"
        }
      ]
    },
    {
      "cell_type": "code",
      "metadata": {
        "id": "od9pyPJiekTU",
        "colab_type": "code",
        "colab": {
          "base_uri": "https://localhost:8080/",
          "height": 68
        },
        "outputId": "a1b8eb7a-5b07-4642-c390-f4eb4b5b9a54"
      },
      "source": [
        "#using try and except \n",
        "try:\n",
        "    hour = int(input(\"Enter Hour: \"))\n",
        "    rate = int(input(\"Enter Rate: \"))\n",
        "    if hour <= 40:\n",
        "        print(hour * rate)\n",
        "    elif hour > 40:\n",
        "        print((hour * rate)+(hour - 40) * (rate * 0.5))\n",
        "except:\n",
        "    print(\"error,please enter numeric input\")"
      ],
      "execution_count": 23,
      "outputs": [
        {
          "output_type": "stream",
          "text": [
            "Enter Hour: 20\n",
            "Enter Rate: nine\n",
            "error,please enter numeric input\n"
          ],
          "name": "stdout"
        }
      ]
    },
    {
      "cell_type": "code",
      "metadata": {
        "id": "wgx0RfZoh4z8",
        "colab_type": "code",
        "colab": {
          "base_uri": "https://localhost:8080/",
          "height": 68
        },
        "outputId": "ed5a3e33-a69a-4cdf-eb13-4afaae3678e5"
      },
      "source": [
        "#to prompt a score\n",
        "hrs = input(\"Enter Hours:\")\n",
        "h = float(hrs)\n",
        "xx = input(\"Enter the Rate:\")\n",
        "x = float(xx)\n",
        "if h <= 40:\n",
        "   print( h * x)\n",
        "elif h > 40:\n",
        "   print(40*x + (h-40)*1.5*x)"
      ],
      "execution_count": 32,
      "outputs": [
        {
          "output_type": "stream",
          "text": [
            "Enter Hours:45\n",
            "Enter the Rate:10\n",
            "475.0\n"
          ],
          "name": "stdout"
        }
      ]
    }
  ]
}